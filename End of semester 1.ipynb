{
 "cells": [
  {
   "cell_type": "markdown",
   "id": "440a9a1b-e72c-4589-bdf4-9edf4e80d312",
   "metadata": {},
   "source": [
    "# 0096"
   ]
  },
  {
   "cell_type": "markdown",
   "id": "66086d80-3917-4c6c-9ebd-308f69c4825c",
   "metadata": {},
   "source": [
    "# Question five"
   ]
  },
  {
   "cell_type": "code",
   "execution_count": 71,
   "id": "2275796c-2d93-45b2-9845-29a985cea1aa",
   "metadata": {},
   "outputs": [],
   "source": [
    "import numpy as np"
   ]
  },
  {
   "cell_type": "code",
   "execution_count": 72,
   "id": "ea56edf7-066b-49e9-a6f8-1504f1a5c0cc",
   "metadata": {},
   "outputs": [
    {
     "name": "stdout",
     "output_type": "stream",
     "text": [
      "[[1.  0.2 0.5]\n",
      " [0.2 1.  0.8]\n",
      " [0.5 0.8 0.1]]\n"
     ]
    }
   ],
   "source": [
    "matrix_A=np.array([[1,0.2,0.5],[0.2,1,0.8],[0.5,0.8,0.1]]) # constructed martix_A\n",
    "print(matrix_A)"
   ]
  },
  {
   "cell_type": "markdown",
   "id": "c7d5673b-dae2-434f-9114-111d115f3d01",
   "metadata": {},
   "source": [
    "# (i)"
   ]
  },
  {
   "cell_type": "code",
   "execution_count": 73,
   "id": "332cd97c-2575-4578-861a-eb4daee6a8a1",
   "metadata": {},
   "outputs": [
    {
     "data": {
      "text/plain": [
       "array([[1. , 0.2, 0.5],\n",
       "       [0.2, 1. , 0.8],\n",
       "       [0.5, 0.8, 0.1]])"
      ]
     },
     "execution_count": 73,
     "metadata": {},
     "output_type": "execute_result"
    }
   ],
   "source": [
    "A=np.array([[1,0.2,0.5],[0.2,1,0.8],[0.5,0.8,0.1]]) # inversion of the matrix\n",
    "A.T"
   ]
  },
  {
   "cell_type": "markdown",
   "id": "92f3f098-f726-4a46-b35a-000157f84008",
   "metadata": {},
   "source": [
    "# (ii)"
   ]
  },
  {
   "cell_type": "code",
   "execution_count": 74,
   "id": "25a04b14-c935-4c3d-a62f-9ec7f6217fa7",
   "metadata": {},
   "outputs": [
    {
     "name": "stdout",
     "output_type": "stream",
     "text": [
      "-0.6340000000000001\n"
     ]
    }
   ],
   "source": [
    "determinant=np.linalg.det(matrix_A)# determinant of matrix_A\n",
    "print(determinant)"
   ]
  },
  {
   "cell_type": "markdown",
   "id": "475ea059-7372-4fc9-8366-4f1953db1444",
   "metadata": {},
   "source": [
    "# (iii)"
   ]
  },
  {
   "cell_type": "code",
   "execution_count": 75,
   "id": "5d9d641b-3f6b-410c-86c2-c235812f7380",
   "metadata": {},
   "outputs": [],
   "source": [
    "matrix_A=([])"
   ]
  },
  {
   "cell_type": "markdown",
   "id": "f854a4b4-901a-4ae2-aac4-881121e25834",
   "metadata": {},
   "source": [
    "# (iv)"
   ]
  },
  {
   "cell_type": "code",
   "execution_count": 76,
   "id": "2bd1f073-521a-4e85-9e29-5d977884943c",
   "metadata": {},
   "outputs": [
    {
     "name": "stdout",
     "output_type": "stream",
     "text": [
      "[[1.29 0.8  0.71]\n",
      " [0.8  1.68 0.98]\n",
      " [0.71 0.98 0.9 ]]\n"
     ]
    }
   ],
   "source": [
    "AAT=np.dot(A,AT) # transformed the matrix\n",
    "print(AAT)"
   ]
  },
  {
   "cell_type": "markdown",
   "id": "4f9058c0-8d9b-4767-8179-3a625bb15e07",
   "metadata": {},
   "source": [
    "# question six"
   ]
  },
  {
   "cell_type": "markdown",
   "id": "ecfab2a7-8b9f-4b41-b27b-1a977d0d2561",
   "metadata": {},
   "source": [
    "# (i)"
   ]
  },
  {
   "cell_type": "code",
   "execution_count": 77,
   "id": "d8c8b392-a289-4052-8777-75dd1767b786",
   "metadata": {},
   "outputs": [],
   "source": [
    " import matplotlib.pyplot as plt"
   ]
  },
  {
   "cell_type": "code",
   "execution_count": 78,
   "id": "63f45117-b030-47eb-9676-a39d3f7f72d2",
   "metadata": {},
   "outputs": [],
   "source": [
    "import seaborn as sns"
   ]
  },
  {
   "cell_type": "code",
   "execution_count": 79,
   "id": "a26fbfe1-51db-4375-a747-8003ad351661",
   "metadata": {},
   "outputs": [
    {
     "name": "stdout",
     "output_type": "stream",
     "text": [
      "[ 7  6  1  8  4  9  8  5  7  2  7  4  4  2  6  5  5  6  5  3  6  1  2  3\n",
      "  4  5  3  5  5  1  0  4  4  4  3  5  6  7  5  5  5  5  6  2  8  1  4  2\n",
      "  5  7  5 12  2  7  4  4  3  5  7  3  5  7  5  4  4  5  8  5  5  3  4  6\n",
      "  7  5  8  7  8  3  6  4  8  5  3  5  6  5  6  6  6  6  4  6  6  5  2  4\n",
      "  9  1  4  2  2  8  4  2  6  5  2  4 10  9  3  4  6  3  4  3 10  5  5  5\n",
      "  4  3  5  8  6  5  8  3  0  4  6  3  3  5  6  7  8  4  6  3  8  3  5  9\n",
      "  4  7 12  8  7  4  3  4  5  4  4  3 10  5  4  5  4  3  7  5  4  4  2  4\n",
      "  3  4  6  6  1  7  6  4 12  5  2  1  5  4  6  5  4  5  3  2  5  5  5  3\n",
      "  3  2  5  8  5  2  5  5  6  5  4  7  6  6  7  7  5  5  5  7  5  2  6 13\n",
      "  6  6  4  2  4  5  5  5  1  4  8  5  2  7  5  5  2  6  7  7  3  5  4  6\n",
      "  5  6  8  6  6  2  3  2  7  6  7  1  4  7  7 10  4  4  5  1  4  8  5  2\n",
      "  3  5  3  5  5  5  9  7  3  6  4  7  3  8  6  8  7  6  4  6 10  7  3  4\n",
      " 10  3  3  4  7  7  5  5  3  2  4  5  2  8  5  7  3  1  8  5  7  4  5  3\n",
      "  5  2  2  3  6  6  1  7  7  6  5  7  7  7  6  5  7 10  5  5  4  7  8  3\n",
      "  6  4  3  4  1  4  1  3  2  2  5 10  2  2  2  9  4  7  6  7  7  8  4  5\n",
      "  4  4  5  3  3  2  2  5  4  5  5  2  2  4  5  7  5  7  3  3  4  3  1  5\n",
      "  9  4  7  4  6  4  2  6  4  3  7  5  5 13  1  4  3  5  6  4  7  3  7  2\n",
      "  4  8  5 13  4  1  3  5  5  3  4  5 12  8  6  7  1  5  4  2  8  8  3  2\n",
      "  8  8  4  2  8  2  5  5  5  5  4  5  7  0  7  8  5  8  4  1  4  5  2  2\n",
      "  5  4  4  3  5  7  3  5 12  5  5  8  5 10  7  3  8  7  3  4  5  4  4  9\n",
      "  7  5  2  3  3  4  6  7  5 11  6  7  3  2  9  4  6  8  6  9  3  5  6  2\n",
      "  5  8  6  8  8  3  4  3  6  2  2  9  9  4  6  4  3  7  3  2  4  3  5  6\n",
      "  3  5  5  8  4  6  6  9  4  4  3  5  5  9  0  6  6  5  1  5  5  4  4  2\n",
      "  2  6  3  7  6  3  4 11  5  6  3  5  4  9  7  4  7  8  4  7 11  5  6  6\n",
      "  3  5  6  2  5  7  4  6  1  3  5  5  3  5  5  8  5  5  5  6  7  6  9  5\n",
      "  7  5  2 11  0  4  4  5  4  8  2  3  5  4  8  8  6  1  6  5  0  3  4  3\n",
      "  4  6  7  6  8  7  4  8  8  3  3  2  7  3  7  2 11  4  5  7  4  4  3  5\n",
      "  8  8  9  7  5  4  1  7  5 10  3  4  6  2  4  4  2  3  7  8  1  6  3  3\n",
      "  6  2  2  4  6  5  6  6 12  5  2  5  0  2  6  3  6  4  6  7  6  6  7  3\n",
      "  2  4  6  4  5  7  2  4  3  4  4  8  6  3  3  5  4  6  5  2  3  5  5  6\n",
      "  3  4  3  3  6  1  6  2  0  9  3  4  7  2  2  2  9  0  7  3  5  1  5  8\n",
      "  3  5  5  4  5  5  2  7  4  5  0  3  5  2  4  7  8  6  3  5  8  4  9  7\n",
      "  2  8  2  2  5  4  2  9  5  5  5  7  4  6  6  4  4  5  6  4  6  8  1  5\n",
      "  2  9 11  7  4  6  9  7 11  9  7  4  2  7  5  8  9  9  8  2  5  6  6  4\n",
      "  6  5  3  5  7  3  3  8  5  8  7  5  3  4  7  7  5  4  7  4  5  7  2  6\n",
      "  5  3  4 10  3  7  4  6  7  6  3  5  4 11  5  7  6  3  6  6  6  7  2  2\n",
      "  5  9  4  2  4  7  5  1  4  8  4  7  4  6  7  3  2  6  7  7  7  6  9  5\n",
      "  6  3  4  0  1  4  7  8  7  3  2 10  6  3 11  6  3  5  4  6  8  3  5  4\n",
      "  8  8  5  5  6  3  3  6  4  2  4  7 10  3  4  9  7  7  5  5  5  2  2  5\n",
      "  2  6 10  3  5 12  4  2  4  4  9  3  3  4  6  5  8  6  8  6  5  4  7  4\n",
      "  3  7  6 13  3  5  3  6  4  8  5  4  5  4  3  3  6  5  8  4  7  7  7  7\n",
      "  5  8 10  5  6  4  7  3  3  7  6  5  5  6  4  7]\n"
     ]
    }
   ],
   "source": [
    "x=random.poisson(lam=5,size=1000) # generated the samples obsereved of customer arrivals per day\n",
    "print(x)"
   ]
  },
  {
   "cell_type": "markdown",
   "id": "5b141130-4d87-46e2-ac7c-e2078f0fac40",
   "metadata": {},
   "source": [
    "# (ii)"
   ]
  },
  {
   "cell_type": "code",
   "execution_count": 80,
   "id": "0823c415-8407-4dd1-8ccb-96b9286c9818",
   "metadata": {},
   "outputs": [
    {
     "name": "stdout",
     "output_type": "stream",
     "text": [
      "<function mean at 0x000001C660E16F20>\n"
     ]
    }
   ],
   "source": [
    "\n",
    "x = random.poisson(lam=5,size=1000)\n",
    "print (np.mean)"
   ]
  },
  {
   "cell_type": "code",
   "execution_count": 81,
   "id": "1692511c-b72c-40f4-92b1-76794addf157",
   "metadata": {},
   "outputs": [
    {
     "data": {
      "image/png": "[encoded data removed]",
      "text/plain": [
       "<Figure size 640x480 with 1 Axes>"
      ]
     },
     "metadata": {},
     "output_type": "display_data"
    }
   ],
   "source": [
    "poisson_data=random.poisson(lam=5,size=1000)\n",
    "sns.histplot(poisson_data,label=\"poisson\",color=\"orange\")\n",
    "plt.xlabel(\"customers per day\")\n",
    "plt.ylabel(\"Frequency\")\n",
    "plt.title(\"Visualisation of poisson distribution\")\n",
    "plt.legend()\n",
    "\n",
    "\n",
    "plt.show()"
   ]
  },
  {
   "cell_type": "code",
   "execution_count": null,
   "id": "198a02d0-b5c2-4b0e-916e-9c66e5fbfb55",
   "metadata": {},
   "outputs": [],
   "source": []
  },
  {
   "cell_type": "code",
   "execution_count": null,
   "id": "cfa42508-27fc-40f5-83b2-183ad7539a8d",
   "metadata": {},
   "outputs": [],
   "source": []
  }
 ],
 "metadata": {
  "kernelspec": {
   "display_name": "Python 3 (ipykernel)",
   "language": "python",
   "name": "python3"
  },
  "language_info": {
   "codemirror_mode": {
    "name": "ipython",
    "version": 3
   },
   "file_extension": ".py",
   "mimetype": "text/x-python",
   "name": "python",
   "nbconvert_exporter": "python",
   "pygments_lexer": "ipython3",
   "version": "3.12.5"
  }
 },
 "nbformat": 4,
 "nbformat_minor": 5
}
